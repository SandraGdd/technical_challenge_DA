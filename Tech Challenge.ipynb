{
 "cells": [
  {
   "cell_type": "code",
   "execution_count": 117,
   "id": "760d6a49-60cf-42bc-a13f-6c8926f3d62c",
   "metadata": {},
   "outputs": [],
   "source": [
    "import pandas as pd\n",
    "import seaborn as sns\n",
    "import matplotlib.pyplot as plt"
   ]
  },
  {
   "cell_type": "code",
   "execution_count": 71,
   "id": "2afe2e2c-512f-4062-91c2-65e244ab610d",
   "metadata": {},
   "outputs": [],
   "source": [
    "df = pd.read_csv('measurements.csv')"
   ]
  },
  {
   "cell_type": "code",
   "execution_count": 73,
   "id": "f9d99dc2-bd2f-4168-9a5b-cb515873401f",
   "metadata": {},
   "outputs": [
    {
     "data": {
      "text/html": [
       "<div>\n",
       "<style scoped>\n",
       "    .dataframe tbody tr th:only-of-type {\n",
       "        vertical-align: middle;\n",
       "    }\n",
       "\n",
       "    .dataframe tbody tr th {\n",
       "        vertical-align: top;\n",
       "    }\n",
       "\n",
       "    .dataframe thead th {\n",
       "        text-align: right;\n",
       "    }\n",
       "</style>\n",
       "<table border=\"1\" class=\"dataframe\">\n",
       "  <thead>\n",
       "    <tr style=\"text-align: right;\">\n",
       "      <th></th>\n",
       "      <th>distance</th>\n",
       "      <th>consume</th>\n",
       "      <th>speed</th>\n",
       "      <th>temp_inside</th>\n",
       "      <th>temp_outside</th>\n",
       "      <th>specials</th>\n",
       "      <th>gas_type</th>\n",
       "      <th>AC</th>\n",
       "      <th>rain</th>\n",
       "      <th>sun</th>\n",
       "      <th>refill liters</th>\n",
       "      <th>refill gas</th>\n",
       "    </tr>\n",
       "  </thead>\n",
       "  <tbody>\n",
       "    <tr>\n",
       "      <th>0</th>\n",
       "      <td>28</td>\n",
       "      <td>5</td>\n",
       "      <td>26</td>\n",
       "      <td>21,5</td>\n",
       "      <td>12</td>\n",
       "      <td>NaN</td>\n",
       "      <td>E10</td>\n",
       "      <td>0</td>\n",
       "      <td>0</td>\n",
       "      <td>0</td>\n",
       "      <td>45</td>\n",
       "      <td>E10</td>\n",
       "    </tr>\n",
       "    <tr>\n",
       "      <th>1</th>\n",
       "      <td>12</td>\n",
       "      <td>4,2</td>\n",
       "      <td>30</td>\n",
       "      <td>21,5</td>\n",
       "      <td>13</td>\n",
       "      <td>NaN</td>\n",
       "      <td>E10</td>\n",
       "      <td>0</td>\n",
       "      <td>0</td>\n",
       "      <td>0</td>\n",
       "      <td>NaN</td>\n",
       "      <td>NaN</td>\n",
       "    </tr>\n",
       "    <tr>\n",
       "      <th>2</th>\n",
       "      <td>11,2</td>\n",
       "      <td>5,5</td>\n",
       "      <td>38</td>\n",
       "      <td>21,5</td>\n",
       "      <td>15</td>\n",
       "      <td>NaN</td>\n",
       "      <td>E10</td>\n",
       "      <td>0</td>\n",
       "      <td>0</td>\n",
       "      <td>0</td>\n",
       "      <td>NaN</td>\n",
       "      <td>NaN</td>\n",
       "    </tr>\n",
       "    <tr>\n",
       "      <th>3</th>\n",
       "      <td>12,9</td>\n",
       "      <td>3,9</td>\n",
       "      <td>36</td>\n",
       "      <td>21,5</td>\n",
       "      <td>14</td>\n",
       "      <td>NaN</td>\n",
       "      <td>E10</td>\n",
       "      <td>0</td>\n",
       "      <td>0</td>\n",
       "      <td>0</td>\n",
       "      <td>NaN</td>\n",
       "      <td>NaN</td>\n",
       "    </tr>\n",
       "    <tr>\n",
       "      <th>4</th>\n",
       "      <td>18,5</td>\n",
       "      <td>4,5</td>\n",
       "      <td>46</td>\n",
       "      <td>21,5</td>\n",
       "      <td>15</td>\n",
       "      <td>NaN</td>\n",
       "      <td>E10</td>\n",
       "      <td>0</td>\n",
       "      <td>0</td>\n",
       "      <td>0</td>\n",
       "      <td>NaN</td>\n",
       "      <td>NaN</td>\n",
       "    </tr>\n",
       "    <tr>\n",
       "      <th>...</th>\n",
       "      <td>...</td>\n",
       "      <td>...</td>\n",
       "      <td>...</td>\n",
       "      <td>...</td>\n",
       "      <td>...</td>\n",
       "      <td>...</td>\n",
       "      <td>...</td>\n",
       "      <td>...</td>\n",
       "      <td>...</td>\n",
       "      <td>...</td>\n",
       "      <td>...</td>\n",
       "      <td>...</td>\n",
       "    </tr>\n",
       "    <tr>\n",
       "      <th>383</th>\n",
       "      <td>16</td>\n",
       "      <td>3,7</td>\n",
       "      <td>39</td>\n",
       "      <td>24,5</td>\n",
       "      <td>18</td>\n",
       "      <td>NaN</td>\n",
       "      <td>SP98</td>\n",
       "      <td>0</td>\n",
       "      <td>0</td>\n",
       "      <td>0</td>\n",
       "      <td>NaN</td>\n",
       "      <td>NaN</td>\n",
       "    </tr>\n",
       "    <tr>\n",
       "      <th>384</th>\n",
       "      <td>16,1</td>\n",
       "      <td>4,3</td>\n",
       "      <td>38</td>\n",
       "      <td>25</td>\n",
       "      <td>31</td>\n",
       "      <td>AC</td>\n",
       "      <td>SP98</td>\n",
       "      <td>1</td>\n",
       "      <td>0</td>\n",
       "      <td>0</td>\n",
       "      <td>NaN</td>\n",
       "      <td>NaN</td>\n",
       "    </tr>\n",
       "    <tr>\n",
       "      <th>385</th>\n",
       "      <td>16</td>\n",
       "      <td>3,8</td>\n",
       "      <td>45</td>\n",
       "      <td>25</td>\n",
       "      <td>19</td>\n",
       "      <td>NaN</td>\n",
       "      <td>SP98</td>\n",
       "      <td>0</td>\n",
       "      <td>0</td>\n",
       "      <td>0</td>\n",
       "      <td>NaN</td>\n",
       "      <td>NaN</td>\n",
       "    </tr>\n",
       "    <tr>\n",
       "      <th>386</th>\n",
       "      <td>15,4</td>\n",
       "      <td>4,6</td>\n",
       "      <td>42</td>\n",
       "      <td>25</td>\n",
       "      <td>31</td>\n",
       "      <td>AC</td>\n",
       "      <td>SP98</td>\n",
       "      <td>1</td>\n",
       "      <td>0</td>\n",
       "      <td>0</td>\n",
       "      <td>NaN</td>\n",
       "      <td>NaN</td>\n",
       "    </tr>\n",
       "    <tr>\n",
       "      <th>387</th>\n",
       "      <td>14,7</td>\n",
       "      <td>5</td>\n",
       "      <td>25</td>\n",
       "      <td>25</td>\n",
       "      <td>30</td>\n",
       "      <td>AC</td>\n",
       "      <td>SP98</td>\n",
       "      <td>1</td>\n",
       "      <td>0</td>\n",
       "      <td>0</td>\n",
       "      <td>NaN</td>\n",
       "      <td>NaN</td>\n",
       "    </tr>\n",
       "  </tbody>\n",
       "</table>\n",
       "<p>388 rows × 12 columns</p>\n",
       "</div>"
      ],
      "text/plain": [
       "    distance consume  speed temp_inside  temp_outside specials gas_type  AC  \\\n",
       "0         28       5     26        21,5            12      NaN      E10   0   \n",
       "1         12     4,2     30        21,5            13      NaN      E10   0   \n",
       "2       11,2     5,5     38        21,5            15      NaN      E10   0   \n",
       "3       12,9     3,9     36        21,5            14      NaN      E10   0   \n",
       "4       18,5     4,5     46        21,5            15      NaN      E10   0   \n",
       "..       ...     ...    ...         ...           ...      ...      ...  ..   \n",
       "383       16     3,7     39        24,5            18      NaN     SP98   0   \n",
       "384     16,1     4,3     38          25            31       AC     SP98   1   \n",
       "385       16     3,8     45          25            19      NaN     SP98   0   \n",
       "386     15,4     4,6     42          25            31       AC     SP98   1   \n",
       "387     14,7       5     25          25            30       AC     SP98   1   \n",
       "\n",
       "     rain  sun refill liters refill gas  \n",
       "0       0    0            45        E10  \n",
       "1       0    0           NaN        NaN  \n",
       "2       0    0           NaN        NaN  \n",
       "3       0    0           NaN        NaN  \n",
       "4       0    0           NaN        NaN  \n",
       "..    ...  ...           ...        ...  \n",
       "383     0    0           NaN        NaN  \n",
       "384     0    0           NaN        NaN  \n",
       "385     0    0           NaN        NaN  \n",
       "386     0    0           NaN        NaN  \n",
       "387     0    0           NaN        NaN  \n",
       "\n",
       "[388 rows x 12 columns]"
      ]
     },
     "execution_count": 73,
     "metadata": {},
     "output_type": "execute_result"
    }
   ],
   "source": [
    "# OVERVIEW \n",
    "df"
   ]
  },
  {
   "cell_type": "code",
   "execution_count": 75,
   "id": "241e164b-4ace-4c07-9235-d3051239a4cc",
   "metadata": {},
   "outputs": [
    {
     "data": {
      "text/html": [
       "<div>\n",
       "<style scoped>\n",
       "    .dataframe tbody tr th:only-of-type {\n",
       "        vertical-align: middle;\n",
       "    }\n",
       "\n",
       "    .dataframe tbody tr th {\n",
       "        vertical-align: top;\n",
       "    }\n",
       "\n",
       "    .dataframe thead th {\n",
       "        text-align: right;\n",
       "    }\n",
       "</style>\n",
       "<table border=\"1\" class=\"dataframe\">\n",
       "  <thead>\n",
       "    <tr style=\"text-align: right;\">\n",
       "      <th></th>\n",
       "      <th>speed</th>\n",
       "      <th>temp_outside</th>\n",
       "      <th>AC</th>\n",
       "      <th>rain</th>\n",
       "      <th>sun</th>\n",
       "    </tr>\n",
       "  </thead>\n",
       "  <tbody>\n",
       "    <tr>\n",
       "      <th>count</th>\n",
       "      <td>388.000000</td>\n",
       "      <td>388.000000</td>\n",
       "      <td>388.000000</td>\n",
       "      <td>388.000000</td>\n",
       "      <td>388.000000</td>\n",
       "    </tr>\n",
       "    <tr>\n",
       "      <th>mean</th>\n",
       "      <td>41.927835</td>\n",
       "      <td>11.358247</td>\n",
       "      <td>0.077320</td>\n",
       "      <td>0.123711</td>\n",
       "      <td>0.082474</td>\n",
       "    </tr>\n",
       "    <tr>\n",
       "      <th>std</th>\n",
       "      <td>13.598524</td>\n",
       "      <td>6.991542</td>\n",
       "      <td>0.267443</td>\n",
       "      <td>0.329677</td>\n",
       "      <td>0.275441</td>\n",
       "    </tr>\n",
       "    <tr>\n",
       "      <th>min</th>\n",
       "      <td>14.000000</td>\n",
       "      <td>-5.000000</td>\n",
       "      <td>0.000000</td>\n",
       "      <td>0.000000</td>\n",
       "      <td>0.000000</td>\n",
       "    </tr>\n",
       "    <tr>\n",
       "      <th>25%</th>\n",
       "      <td>32.750000</td>\n",
       "      <td>7.000000</td>\n",
       "      <td>0.000000</td>\n",
       "      <td>0.000000</td>\n",
       "      <td>0.000000</td>\n",
       "    </tr>\n",
       "    <tr>\n",
       "      <th>50%</th>\n",
       "      <td>40.500000</td>\n",
       "      <td>10.000000</td>\n",
       "      <td>0.000000</td>\n",
       "      <td>0.000000</td>\n",
       "      <td>0.000000</td>\n",
       "    </tr>\n",
       "    <tr>\n",
       "      <th>75%</th>\n",
       "      <td>50.000000</td>\n",
       "      <td>16.000000</td>\n",
       "      <td>0.000000</td>\n",
       "      <td>0.000000</td>\n",
       "      <td>0.000000</td>\n",
       "    </tr>\n",
       "    <tr>\n",
       "      <th>max</th>\n",
       "      <td>90.000000</td>\n",
       "      <td>31.000000</td>\n",
       "      <td>1.000000</td>\n",
       "      <td>1.000000</td>\n",
       "      <td>1.000000</td>\n",
       "    </tr>\n",
       "  </tbody>\n",
       "</table>\n",
       "</div>"
      ],
      "text/plain": [
       "            speed  temp_outside          AC        rain         sun\n",
       "count  388.000000    388.000000  388.000000  388.000000  388.000000\n",
       "mean    41.927835     11.358247    0.077320    0.123711    0.082474\n",
       "std     13.598524      6.991542    0.267443    0.329677    0.275441\n",
       "min     14.000000     -5.000000    0.000000    0.000000    0.000000\n",
       "25%     32.750000      7.000000    0.000000    0.000000    0.000000\n",
       "50%     40.500000     10.000000    0.000000    0.000000    0.000000\n",
       "75%     50.000000     16.000000    0.000000    0.000000    0.000000\n",
       "max     90.000000     31.000000    1.000000    1.000000    1.000000"
      ]
     },
     "execution_count": 75,
     "metadata": {},
     "output_type": "execute_result"
    }
   ],
   "source": [
    "df.describe()"
   ]
  },
  {
   "cell_type": "code",
   "execution_count": 77,
   "id": "576fcf43-00c1-446d-afd2-f7d0e9b768fe",
   "metadata": {},
   "outputs": [
    {
     "name": "stdout",
     "output_type": "stream",
     "text": [
      "<class 'pandas.core.frame.DataFrame'>\n",
      "RangeIndex: 388 entries, 0 to 387\n",
      "Data columns (total 12 columns):\n",
      " #   Column         Non-Null Count  Dtype \n",
      "---  ------         --------------  ----- \n",
      " 0   distance       388 non-null    object\n",
      " 1   consume        388 non-null    object\n",
      " 2   speed          388 non-null    int64 \n",
      " 3   temp_inside    376 non-null    object\n",
      " 4   temp_outside   388 non-null    int64 \n",
      " 5   specials       93 non-null     object\n",
      " 6   gas_type       388 non-null    object\n",
      " 7   AC             388 non-null    int64 \n",
      " 8   rain           388 non-null    int64 \n",
      " 9   sun            388 non-null    int64 \n",
      " 10  refill liters  13 non-null     object\n",
      " 11  refill gas     13 non-null     object\n",
      "dtypes: int64(5), object(7)\n",
      "memory usage: 36.5+ KB\n"
     ]
    }
   ],
   "source": [
    "df.info()"
   ]
  },
  {
   "cell_type": "code",
   "execution_count": 79,
   "id": "830a9e9f-aeb5-4535-8e62-2069ad32d175",
   "metadata": {},
   "outputs": [],
   "source": [
    "# df2 = pd.read_excel('measurements2.xlsx')  the same "
   ]
  },
  {
   "cell_type": "code",
   "execution_count": 81,
   "id": "1120981e-2081-4fee-9dc7-92b9e366242e",
   "metadata": {},
   "outputs": [
    {
     "data": {
      "text/plain": [
       "Index(['distance', 'consume', 'speed', 'temp_inside', 'temp_outside',\n",
       "       'specials', 'gas_type', 'AC', 'rain', 'sun', 'refill liters',\n",
       "       'refill gas'],\n",
       "      dtype='object')"
      ]
     },
     "execution_count": 81,
     "metadata": {},
     "output_type": "execute_result"
    }
   ],
   "source": [
    "df.columns"
   ]
  },
  {
   "cell_type": "code",
   "execution_count": 103,
   "id": "b3ae3473-0b1f-4fef-9ae3-f8b9c2a7246e",
   "metadata": {},
   "outputs": [
    {
     "data": {
      "text/plain": [
       "distance         0\n",
       "consume          0\n",
       "speed            0\n",
       "temp_inside      0\n",
       "temp_outside     0\n",
       "specials         0\n",
       "gas_type         0\n",
       "AC               0\n",
       "rain             0\n",
       "sun              0\n",
       "refill liters    0\n",
       "refill gas       0\n",
       "dtype: int64"
      ]
     },
     "execution_count": 103,
     "metadata": {},
     "output_type": "execute_result"
    }
   ],
   "source": [
    "# CLEANING\n",
    "\n",
    "df.isnull().sum()"
   ]
  },
  {
   "cell_type": "code",
   "execution_count": 91,
   "id": "923bf12b-dccd-4865-a3e6-518d7d98dc41",
   "metadata": {},
   "outputs": [],
   "source": [
    "df['temp_inside'] = df['temp_inside'].str.replace(',', '.')\n",
    "df['temp_inside'] = pd.to_numeric(df['temp_inside'])"
   ]
  },
  {
   "cell_type": "code",
   "execution_count": 99,
   "id": "47e4e25d-1e4b-4867-87a4-a21318658f3a",
   "metadata": {},
   "outputs": [
    {
     "name": "stderr",
     "output_type": "stream",
     "text": [
      "/var/folders/jr/tzjk1k550jnfd3ck0z2tl_nr0000gn/T/ipykernel_3443/1485448771.py:1: FutureWarning: A value is trying to be set on a copy of a DataFrame or Series through chained assignment using an inplace method.\n",
      "The behavior will change in pandas 3.0. This inplace method will never work because the intermediate object on which we are setting values always behaves as a copy.\n",
      "\n",
      "For example, when doing 'df[col].method(value, inplace=True)', try using 'df.method({col: value}, inplace=True)' or df[col] = df[col].method(value) instead, to perform the operation inplace on the original object.\n",
      "\n",
      "\n",
      "  df['temp_inside'].fillna(df['temp_inside'].mean(), inplace=True)\n"
     ]
    }
   ],
   "source": [
    "df['temp_inside'].fillna(df['temp_inside'].mean(), inplace=True)\n",
    "df['specials'] = df['specials'].fillna('No Specials')\n",
    "df['refill liters'] = df['refill liters'].fillna(0)\n",
    "df['refill gas'] = df['refill gas'].fillna(0)"
   ]
  },
  {
   "cell_type": "code",
   "execution_count": 101,
   "id": "65f8bc71-d43c-4930-ba77-896dcec21512",
   "metadata": {},
   "outputs": [
    {
     "data": {
      "text/html": [
       "<div>\n",
       "<style scoped>\n",
       "    .dataframe tbody tr th:only-of-type {\n",
       "        vertical-align: middle;\n",
       "    }\n",
       "\n",
       "    .dataframe tbody tr th {\n",
       "        vertical-align: top;\n",
       "    }\n",
       "\n",
       "    .dataframe thead th {\n",
       "        text-align: right;\n",
       "    }\n",
       "</style>\n",
       "<table border=\"1\" class=\"dataframe\">\n",
       "  <thead>\n",
       "    <tr style=\"text-align: right;\">\n",
       "      <th></th>\n",
       "      <th>distance</th>\n",
       "      <th>consume</th>\n",
       "      <th>speed</th>\n",
       "      <th>temp_inside</th>\n",
       "      <th>temp_outside</th>\n",
       "      <th>specials</th>\n",
       "      <th>gas_type</th>\n",
       "      <th>AC</th>\n",
       "      <th>rain</th>\n",
       "      <th>sun</th>\n",
       "      <th>refill liters</th>\n",
       "      <th>refill gas</th>\n",
       "    </tr>\n",
       "  </thead>\n",
       "  <tbody>\n",
       "    <tr>\n",
       "      <th>0</th>\n",
       "      <td>28</td>\n",
       "      <td>5</td>\n",
       "      <td>26</td>\n",
       "      <td>21.5</td>\n",
       "      <td>12</td>\n",
       "      <td>No Specials</td>\n",
       "      <td>E10</td>\n",
       "      <td>0</td>\n",
       "      <td>0</td>\n",
       "      <td>0</td>\n",
       "      <td>45</td>\n",
       "      <td>E10</td>\n",
       "    </tr>\n",
       "    <tr>\n",
       "      <th>1</th>\n",
       "      <td>12</td>\n",
       "      <td>4,2</td>\n",
       "      <td>30</td>\n",
       "      <td>21.5</td>\n",
       "      <td>13</td>\n",
       "      <td>No Specials</td>\n",
       "      <td>E10</td>\n",
       "      <td>0</td>\n",
       "      <td>0</td>\n",
       "      <td>0</td>\n",
       "      <td>0</td>\n",
       "      <td>0</td>\n",
       "    </tr>\n",
       "    <tr>\n",
       "      <th>2</th>\n",
       "      <td>11,2</td>\n",
       "      <td>5,5</td>\n",
       "      <td>38</td>\n",
       "      <td>21.5</td>\n",
       "      <td>15</td>\n",
       "      <td>No Specials</td>\n",
       "      <td>E10</td>\n",
       "      <td>0</td>\n",
       "      <td>0</td>\n",
       "      <td>0</td>\n",
       "      <td>0</td>\n",
       "      <td>0</td>\n",
       "    </tr>\n",
       "    <tr>\n",
       "      <th>3</th>\n",
       "      <td>12,9</td>\n",
       "      <td>3,9</td>\n",
       "      <td>36</td>\n",
       "      <td>21.5</td>\n",
       "      <td>14</td>\n",
       "      <td>No Specials</td>\n",
       "      <td>E10</td>\n",
       "      <td>0</td>\n",
       "      <td>0</td>\n",
       "      <td>0</td>\n",
       "      <td>0</td>\n",
       "      <td>0</td>\n",
       "    </tr>\n",
       "    <tr>\n",
       "      <th>4</th>\n",
       "      <td>18,5</td>\n",
       "      <td>4,5</td>\n",
       "      <td>46</td>\n",
       "      <td>21.5</td>\n",
       "      <td>15</td>\n",
       "      <td>No Specials</td>\n",
       "      <td>E10</td>\n",
       "      <td>0</td>\n",
       "      <td>0</td>\n",
       "      <td>0</td>\n",
       "      <td>0</td>\n",
       "      <td>0</td>\n",
       "    </tr>\n",
       "    <tr>\n",
       "      <th>...</th>\n",
       "      <td>...</td>\n",
       "      <td>...</td>\n",
       "      <td>...</td>\n",
       "      <td>...</td>\n",
       "      <td>...</td>\n",
       "      <td>...</td>\n",
       "      <td>...</td>\n",
       "      <td>...</td>\n",
       "      <td>...</td>\n",
       "      <td>...</td>\n",
       "      <td>...</td>\n",
       "      <td>...</td>\n",
       "    </tr>\n",
       "    <tr>\n",
       "      <th>383</th>\n",
       "      <td>16</td>\n",
       "      <td>3,7</td>\n",
       "      <td>39</td>\n",
       "      <td>24.5</td>\n",
       "      <td>18</td>\n",
       "      <td>No Specials</td>\n",
       "      <td>SP98</td>\n",
       "      <td>0</td>\n",
       "      <td>0</td>\n",
       "      <td>0</td>\n",
       "      <td>0</td>\n",
       "      <td>0</td>\n",
       "    </tr>\n",
       "    <tr>\n",
       "      <th>384</th>\n",
       "      <td>16,1</td>\n",
       "      <td>4,3</td>\n",
       "      <td>38</td>\n",
       "      <td>25.0</td>\n",
       "      <td>31</td>\n",
       "      <td>AC</td>\n",
       "      <td>SP98</td>\n",
       "      <td>1</td>\n",
       "      <td>0</td>\n",
       "      <td>0</td>\n",
       "      <td>0</td>\n",
       "      <td>0</td>\n",
       "    </tr>\n",
       "    <tr>\n",
       "      <th>385</th>\n",
       "      <td>16</td>\n",
       "      <td>3,8</td>\n",
       "      <td>45</td>\n",
       "      <td>25.0</td>\n",
       "      <td>19</td>\n",
       "      <td>No Specials</td>\n",
       "      <td>SP98</td>\n",
       "      <td>0</td>\n",
       "      <td>0</td>\n",
       "      <td>0</td>\n",
       "      <td>0</td>\n",
       "      <td>0</td>\n",
       "    </tr>\n",
       "    <tr>\n",
       "      <th>386</th>\n",
       "      <td>15,4</td>\n",
       "      <td>4,6</td>\n",
       "      <td>42</td>\n",
       "      <td>25.0</td>\n",
       "      <td>31</td>\n",
       "      <td>AC</td>\n",
       "      <td>SP98</td>\n",
       "      <td>1</td>\n",
       "      <td>0</td>\n",
       "      <td>0</td>\n",
       "      <td>0</td>\n",
       "      <td>0</td>\n",
       "    </tr>\n",
       "    <tr>\n",
       "      <th>387</th>\n",
       "      <td>14,7</td>\n",
       "      <td>5</td>\n",
       "      <td>25</td>\n",
       "      <td>25.0</td>\n",
       "      <td>30</td>\n",
       "      <td>AC</td>\n",
       "      <td>SP98</td>\n",
       "      <td>1</td>\n",
       "      <td>0</td>\n",
       "      <td>0</td>\n",
       "      <td>0</td>\n",
       "      <td>0</td>\n",
       "    </tr>\n",
       "  </tbody>\n",
       "</table>\n",
       "<p>388 rows × 12 columns</p>\n",
       "</div>"
      ],
      "text/plain": [
       "    distance consume  speed  temp_inside  temp_outside     specials gas_type  \\\n",
       "0         28       5     26         21.5            12  No Specials      E10   \n",
       "1         12     4,2     30         21.5            13  No Specials      E10   \n",
       "2       11,2     5,5     38         21.5            15  No Specials      E10   \n",
       "3       12,9     3,9     36         21.5            14  No Specials      E10   \n",
       "4       18,5     4,5     46         21.5            15  No Specials      E10   \n",
       "..       ...     ...    ...          ...           ...          ...      ...   \n",
       "383       16     3,7     39         24.5            18  No Specials     SP98   \n",
       "384     16,1     4,3     38         25.0            31           AC     SP98   \n",
       "385       16     3,8     45         25.0            19  No Specials     SP98   \n",
       "386     15,4     4,6     42         25.0            31           AC     SP98   \n",
       "387     14,7       5     25         25.0            30           AC     SP98   \n",
       "\n",
       "     AC  rain  sun refill liters refill gas  \n",
       "0     0     0    0            45        E10  \n",
       "1     0     0    0             0          0  \n",
       "2     0     0    0             0          0  \n",
       "3     0     0    0             0          0  \n",
       "4     0     0    0             0          0  \n",
       "..   ..   ...  ...           ...        ...  \n",
       "383   0     0    0             0          0  \n",
       "384   1     0    0             0          0  \n",
       "385   0     0    0             0          0  \n",
       "386   1     0    0             0          0  \n",
       "387   1     0    0             0          0  \n",
       "\n",
       "[388 rows x 12 columns]"
      ]
     },
     "execution_count": 101,
     "metadata": {},
     "output_type": "execute_result"
    }
   ],
   "source": [
    "df"
   ]
  },
  {
   "cell_type": "code",
   "execution_count": 109,
   "id": "67ccd53a-c493-49a7-a6d2-4ebd28f8943c",
   "metadata": {},
   "outputs": [
    {
     "name": "stdout",
     "output_type": "stream",
     "text": [
      "<class 'pandas.core.frame.DataFrame'>\n",
      "RangeIndex: 388 entries, 0 to 387\n",
      "Data columns (total 2 columns):\n",
      " #   Column    Non-Null Count  Dtype  \n",
      "---  ------    --------------  -----  \n",
      " 0   consume   388 non-null    float64\n",
      " 1   distance  388 non-null    float64\n",
      "dtypes: float64(2)\n",
      "memory usage: 6.2 KB\n",
      "None\n"
     ]
    }
   ],
   "source": [
    "df['distance'] = df['distance'].str.replace(',', '.')\n",
    "df['consume'] = df['consume'].str.replace(',', '.')\n",
    "df['distance'] = pd.to_numeric(df['distance'])\n",
    "df['consume'] = pd.to_numeric(df['consume'])\n",
    "print(df[['consume', 'distance']].info())"
   ]
  },
  {
   "cell_type": "code",
   "execution_count": 135,
   "id": "dec481f5-542e-428c-a100-9e86e3d1f747",
   "metadata": {},
   "outputs": [],
   "source": [
    "df.to_csv('cleaned.csv', index=False)"
   ]
  },
  {
   "cell_type": "code",
   "execution_count": 113,
   "id": "f4158215-6a8f-4244-b42f-b2f6bb425fda",
   "metadata": {},
   "outputs": [
    {
     "name": "stdout",
     "output_type": "stream",
     "text": [
      "gas_type\n",
      "E10     0.436056\n",
      "SP98    0.506136\n",
      "Name: efficiency, dtype: float64\n"
     ]
    }
   ],
   "source": [
    "# 1. DISTANCE \n",
    "\n",
    "df['efficiency'] = df['consume']/ df['distance']\n",
    "print(df.groupby('gas_type')['efficiency'].mean())"
   ]
  },
  {
   "cell_type": "code",
   "execution_count": 119,
   "id": "8b4f0341-6fe0-4c7d-a9c3-d317c3de9f1a",
   "metadata": {},
   "outputs": [
    {
     "data": {
      "image/png": "[encoded data removed]",
      "text/plain": [
       "<Figure size 800x500 with 1 Axes>"
      ]
     },
     "metadata": {},
     "output_type": "display_data"
    }
   ],
   "source": [
    "efficiency_by_gas = df.groupby('gas_type')['efficiency'].mean().reset_index()\n",
    "plt.figure(figsize=(8, 5))\n",
    "sns.barplot(data=efficiency_by_gas, x='gas_type', y='efficiency')\n",
    "plt.title('Mean efficiency per gas type')\n",
    "plt.xlabel('gas_type')\n",
    "plt.ylabel('efficiency per distance')\n",
    "plt.show()"
   ]
  },
  {
   "cell_type": "code",
   "execution_count": 139,
   "id": "f0887a9c-85af-4ce8-836e-bbf3e43a0b4a",
   "metadata": {},
   "outputs": [
    {
     "data": {
      "text/plain": [
       "<matplotlib.collections.PathCollection at 0x1306b8260>"
      ]
     },
     "execution_count": 139,
     "metadata": {},
     "output_type": "execute_result"
    },
    {
     "data": {
      "image/png": "[encoded data removed]",
      "text/plain": [
       "<Figure size 640x480 with 1 Axes>"
      ]
     },
     "metadata": {},
     "output_type": "display_data"
    }
   ],
   "source": [
    "plt.scatter(df['distance'], df['consume'])"
   ]
  },
  {
   "cell_type": "code",
   "execution_count": null,
   "id": "bc95c355-188f-4347-962f-931a5dd39e53",
   "metadata": {},
   "outputs": [],
   "source": [
    "# decreasing consumption with higher distance/ high fuekl consumption for short distance "
   ]
  },
  {
   "cell_type": "code",
   "execution_count": 123,
   "id": "8081da5e-a440-47ee-8578-5fe7e51f867b",
   "metadata": {},
   "outputs": [
    {
     "data": {
      "text/html": [
       "<div>\n",
       "<style scoped>\n",
       "    .dataframe tbody tr th:only-of-type {\n",
       "        vertical-align: middle;\n",
       "    }\n",
       "\n",
       "    .dataframe tbody tr th {\n",
       "        vertical-align: top;\n",
       "    }\n",
       "\n",
       "    .dataframe thead th {\n",
       "        text-align: right;\n",
       "    }\n",
       "</style>\n",
       "<table border=\"1\" class=\"dataframe\">\n",
       "  <thead>\n",
       "    <tr style=\"text-align: right;\">\n",
       "      <th></th>\n",
       "      <th>gas_type</th>\n",
       "      <th>consume</th>\n",
       "    </tr>\n",
       "  </thead>\n",
       "  <tbody>\n",
       "    <tr>\n",
       "      <th>0</th>\n",
       "      <td>E10</td>\n",
       "      <td>4.931250</td>\n",
       "    </tr>\n",
       "    <tr>\n",
       "      <th>1</th>\n",
       "      <td>SP98</td>\n",
       "      <td>4.899123</td>\n",
       "    </tr>\n",
       "  </tbody>\n",
       "</table>\n",
       "</div>"
      ],
      "text/plain": [
       "  gas_type   consume\n",
       "0      E10  4.931250\n",
       "1     SP98  4.899123"
      ]
     },
     "execution_count": 123,
     "metadata": {},
     "output_type": "execute_result"
    }
   ],
   "source": [
    "# 2. CONSUME\n",
    "\n",
    "consume_by_gas = df.groupby('gas_type')['consume'].mean().reset_index()\n",
    "consume_by_gas"
   ]
  },
  {
   "cell_type": "code",
   "execution_count": null,
   "id": "4502bc7b-8701-4cb2-8174-1be26c0b421f",
   "metadata": {},
   "outputs": [],
   "source": [
    "# the mean consumption of SP98 is a little bit lower than for E 10, but as we see earlier the efficiency (consumption per distance) is  lower for E 10"
   ]
  },
  {
   "cell_type": "code",
   "execution_count": 131,
   "id": "a8bfecb2-c3fc-4e08-9828-5573aaf33c49",
   "metadata": {},
   "outputs": [
    {
     "data": {
      "text/html": [
       "<div>\n",
       "<style scoped>\n",
       "    .dataframe tbody tr th:only-of-type {\n",
       "        vertical-align: middle;\n",
       "    }\n",
       "\n",
       "    .dataframe tbody tr th {\n",
       "        vertical-align: top;\n",
       "    }\n",
       "\n",
       "    .dataframe thead th {\n",
       "        text-align: right;\n",
       "    }\n",
       "</style>\n",
       "<table border=\"1\" class=\"dataframe\">\n",
       "  <thead>\n",
       "    <tr style=\"text-align: right;\">\n",
       "      <th></th>\n",
       "      <th>gas_type</th>\n",
       "      <th>speed</th>\n",
       "    </tr>\n",
       "  </thead>\n",
       "  <tbody>\n",
       "    <tr>\n",
       "      <th>0</th>\n",
       "      <td>E10</td>\n",
       "      <td>43.506250</td>\n",
       "    </tr>\n",
       "    <tr>\n",
       "      <th>1</th>\n",
       "      <td>SP98</td>\n",
       "      <td>40.820175</td>\n",
       "    </tr>\n",
       "  </tbody>\n",
       "</table>\n",
       "</div>"
      ],
      "text/plain": [
       "  gas_type      speed\n",
       "0      E10  43.506250\n",
       "1     SP98  40.820175"
      ]
     },
     "execution_count": 131,
     "metadata": {},
     "output_type": "execute_result"
    }
   ],
   "source": [
    "# 3. SPEED\n",
    "\n",
    "speed = df.groupby('gas_type')['speed'].mean().reset_index()\n",
    "speed"
   ]
  },
  {
   "cell_type": "code",
   "execution_count": 143,
   "id": "ecaaa606-c3d7-4170-868f-c948691bfb75",
   "metadata": {},
   "outputs": [
    {
     "data": {
      "text/html": [
       "<div>\n",
       "<style scoped>\n",
       "    .dataframe tbody tr th:only-of-type {\n",
       "        vertical-align: middle;\n",
       "    }\n",
       "\n",
       "    .dataframe tbody tr th {\n",
       "        vertical-align: top;\n",
       "    }\n",
       "\n",
       "    .dataframe thead th {\n",
       "        text-align: right;\n",
       "    }\n",
       "</style>\n",
       "<table border=\"1\" class=\"dataframe\">\n",
       "  <thead>\n",
       "    <tr style=\"text-align: right;\">\n",
       "      <th></th>\n",
       "      <th>gas_type</th>\n",
       "      <th>temp_inside</th>\n",
       "    </tr>\n",
       "  </thead>\n",
       "  <tbody>\n",
       "    <tr>\n",
       "      <th>0</th>\n",
       "      <td>E10</td>\n",
       "      <td>21.917429</td>\n",
       "    </tr>\n",
       "    <tr>\n",
       "      <th>1</th>\n",
       "      <td>SP98</td>\n",
       "      <td>21.938007</td>\n",
       "    </tr>\n",
       "  </tbody>\n",
       "</table>\n",
       "</div>"
      ],
      "text/plain": [
       "  gas_type  temp_inside\n",
       "0      E10    21.917429\n",
       "1     SP98    21.938007"
      ]
     },
     "execution_count": 143,
     "metadata": {},
     "output_type": "execute_result"
    }
   ],
   "source": [
    "# 4. TEMP_INSIDE  (almost the same: no insights here)\n",
    "\n",
    "temp_inside = df.groupby('gas_type')['temp_inside'].mean().reset_index()\n",
    "temp_inside"
   ]
  },
  {
   "cell_type": "code",
   "execution_count": 145,
   "id": "6580d6ed-530a-4bd6-9673-875054f83d8d",
   "metadata": {},
   "outputs": [
    {
     "data": {
      "text/html": [
       "<div>\n",
       "<style scoped>\n",
       "    .dataframe tbody tr th:only-of-type {\n",
       "        vertical-align: middle;\n",
       "    }\n",
       "\n",
       "    .dataframe tbody tr th {\n",
       "        vertical-align: top;\n",
       "    }\n",
       "\n",
       "    .dataframe thead th {\n",
       "        text-align: right;\n",
       "    }\n",
       "</style>\n",
       "<table border=\"1\" class=\"dataframe\">\n",
       "  <thead>\n",
       "    <tr style=\"text-align: right;\">\n",
       "      <th></th>\n",
       "      <th>gas_type</th>\n",
       "      <th>temp_outside</th>\n",
       "    </tr>\n",
       "  </thead>\n",
       "  <tbody>\n",
       "    <tr>\n",
       "      <th>0</th>\n",
       "      <td>E10</td>\n",
       "      <td>10.11875</td>\n",
       "    </tr>\n",
       "    <tr>\n",
       "      <th>1</th>\n",
       "      <td>SP98</td>\n",
       "      <td>12.22807</td>\n",
       "    </tr>\n",
       "  </tbody>\n",
       "</table>\n",
       "</div>"
      ],
      "text/plain": [
       "  gas_type  temp_outside\n",
       "0      E10      10.11875\n",
       "1     SP98      12.22807"
      ]
     },
     "execution_count": 145,
     "metadata": {},
     "output_type": "execute_result"
    }
   ],
   "source": [
    "# 5. TEMP_OUTSIDE\n",
    "\n",
    "temp_outside = df.groupby('gas_type')['temp_outside'].mean().reset_index()\n",
    "temp_outside"
   ]
  },
  {
   "cell_type": "code",
   "execution_count": null,
   "id": "5b865e7b-43dd-4ecd-8c19-673d70d59c36",
   "metadata": {},
   "outputs": [],
   "source": [
    "# lower temperatures sometimes increase consumption, so that could explain why the average consumption of E10 is slightly higher "
   ]
  },
  {
   "cell_type": "code",
   "execution_count": 155,
   "id": "20b7abad-388b-4752-b3eb-2a3adf6fa5de",
   "metadata": {},
   "outputs": [
    {
     "data": {
      "text/plain": [
       "array(['No Specials', 'AC rain', 'AC', 'rain', 'snow', 'AC snow',\n",
       "       'half rain half sun', 'sun', 'AC sun', 'sun ac', 'ac', 'AC Sun',\n",
       "       'ac rain'], dtype=object)"
      ]
     },
     "execution_count": 155,
     "metadata": {},
     "output_type": "execute_result"
    }
   ],
   "source": [
    "# 6. SPECIALS\n",
    "\n",
    "df['specials'].unique()"
   ]
  },
  {
   "cell_type": "code",
   "execution_count": 157,
   "id": "704970e3-0cf8-443f-b7d0-3ffe8bd9e949",
   "metadata": {},
   "outputs": [
    {
     "name": "stdout",
     "output_type": "stream",
     "text": [
      "specials            gas_type\n",
      "AC                  E10         5.000000\n",
      "                    SP98        4.620000\n",
      "AC Sun              E10         4.800000\n",
      "AC rain             E10         4.500000\n",
      "                    SP98        5.771429\n",
      "AC snow             E10         7.100000\n",
      "AC sun              E10         4.800000\n",
      "No Specials         E10         4.897692\n",
      "                    SP98        4.903030\n",
      "ac                  E10         4.600000\n",
      "                    SP98        4.700000\n",
      "ac rain             E10         5.100000\n",
      "half rain half sun  SP98        4.700000\n",
      "rain                E10         5.700000\n",
      "                    SP98        5.305000\n",
      "snow                SP98        5.166667\n",
      "sun                 E10         4.350000\n",
      "                    SP98        4.235294\n",
      "sun ac              SP98        4.433333\n",
      "Name: consume, dtype: float64\n"
     ]
    }
   ],
   "source": [
    "mean_consume = df.groupby(['specials', 'gas_type'])['consume'].mean()\n",
    "print(mean_consume)"
   ]
  },
  {
   "cell_type": "code",
   "execution_count": 159,
   "id": "5bea6bf4-34f4-428d-8d20-a731c1cf2592",
   "metadata": {},
   "outputs": [
    {
     "name": "stdout",
     "output_type": "stream",
     "text": [
      "gas_type                 E10      SP98\n",
      "specials                              \n",
      "AC                  5.000000  4.620000\n",
      "AC Sun              4.800000       NaN\n",
      "AC rain             4.500000  5.771429\n",
      "AC snow             7.100000       NaN\n",
      "AC sun              4.800000       NaN\n",
      "No Specials         4.897692  4.903030\n",
      "ac                  4.600000  4.700000\n",
      "ac rain             5.100000       NaN\n",
      "half rain half sun       NaN  4.700000\n",
      "rain                5.700000  5.305000\n",
      "snow                     NaN  5.166667\n",
      "sun                 4.350000  4.235294\n",
      "sun ac                   NaN  4.433333\n"
     ]
    }
   ],
   "source": [
    "pivot_table = df.pivot_table(\n",
    "    values='consume',\n",
    "    index='specials',\n",
    "    columns='gas_type',\n",
    "    aggfunc='mean'\n",
    ")\n",
    "\n",
    "print(pivot_table)"
   ]
  },
  {
   "cell_type": "code",
   "execution_count": null,
   "id": "2b05b3de-8b27-4415-982b-2407c4720531",
   "metadata": {},
   "outputs": [],
   "source": [
    "# no big differences here"
   ]
  },
  {
   "cell_type": "code",
   "execution_count": null,
   "id": "5829e6a4-9fe4-4dc4-b930-9f2de209722e",
   "metadata": {},
   "outputs": [],
   "source": [
    "# All in all I would recommand to go with the E10 combustible: most efficient"
   ]
  }
 ],
 "metadata": {
  "kernelspec": {
   "display_name": "Python 3 (ipykernel)",
   "language": "python",
   "name": "python3"
  },
  "language_info": {
   "codemirror_mode": {
    "name": "ipython",
    "version": 3
   },
   "file_extension": ".py",
   "mimetype": "text/x-python",
   "name": "python",
   "nbconvert_exporter": "python",
   "pygments_lexer": "ipython3",
   "version": "3.12.4"
  }
 },
 "nbformat": 4,
 "nbformat_minor": 5
}
